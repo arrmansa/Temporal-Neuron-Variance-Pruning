{
  "cells": [
    {
      "cell_type": "code",
      "execution_count": 1,
      "metadata": {
        "id": "YMxTDfS1hxsB"
      },
      "outputs": [],
      "source": [
        "# For tips on running notebooks in Google Colab, see\n",
        "# https://pytorch.org/tutorials/beginner/colab\n",
        "%matplotlib inline"
      ]
    },
    {
      "cell_type": "markdown",
      "metadata": {
        "id": "FvtgHAz1hxsF"
      },
      "source": [
        "\n",
        "# Training a Classifier\n",
        "\n",
        "This is it. You have seen how to define neural networks, compute loss and make\n",
        "updates to the weights of the network.\n",
        "\n",
        "Now you might be thinking,\n",
        "\n",
        "## What about data?\n",
        "\n",
        "Generally, when you have to deal with image, text, audio or video data,\n",
        "you can use standard python packages that load data into a numpy array.\n",
        "Then you can convert this array into a ``torch.*Tensor``.\n",
        "\n",
        "-  For images, packages such as Pillow, OpenCV are useful\n",
        "-  For audio, packages such as scipy and librosa\n",
        "-  For text, either raw Python or Cython based loading, or NLTK and\n",
        "   SpaCy are useful\n",
        "\n",
        "Specifically for vision, we have created a package called\n",
        "``torchvision``, that has data loaders for common datasets such as\n",
        "ImageNet, CIFAR10, MNIST, etc. and data transformers for images, viz.,\n",
        "``torchvision.datasets`` and ``torch.utils.data.DataLoader``.\n",
        "\n",
        "This provides a huge convenience and avoids writing boilerplate code.\n",
        "\n",
        "For this tutorial, we will use the CIFAR10 dataset.\n",
        "It has the classes: ‘airplane’, ‘automobile’, ‘bird’, ‘cat’, ‘deer’,\n",
        "‘dog’, ‘frog’, ‘horse’, ‘ship’, ‘truck’. The images in CIFAR-10 are of\n",
        "size 3x32x32, i.e. 3-channel color images of 32x32 pixels in size.\n",
        "\n",
        ".. figure:: /_static/img/cifar10.png\n",
        "   :alt: cifar10\n",
        "\n",
        "   cifar10\n",
        "\n",
        "\n",
        "## Training an image classifier\n",
        "\n",
        "We will do the following steps in order:\n",
        "\n",
        "1. Load and normalize the CIFAR10 training and test datasets using\n",
        "   ``torchvision``\n",
        "2. Define a Convolutional Neural Network\n",
        "3. Define a loss function\n",
        "4. Train the network on the training data\n",
        "5. Test the network on the test data\n",
        "\n",
        "### 1. Load and normalize CIFAR10\n",
        "\n",
        "Using ``torchvision``, it’s extremely easy to load CIFAR10.\n"
      ]
    },
    {
      "cell_type": "code",
      "execution_count": 2,
      "metadata": {
        "id": "PCRtrZ9phxsK"
      },
      "outputs": [],
      "source": [
        "import torch\n",
        "import torchvision\n",
        "import torchvision.transforms as transforms"
      ]
    },
    {
      "cell_type": "markdown",
      "metadata": {
        "id": "I8V8faKXhxsN"
      },
      "source": [
        "The output of torchvision datasets are PILImage images of range [0, 1].\n",
        "We transform them to Tensors of normalized range [-1, 1].\n",
        "\n"
      ]
    },
    {
      "cell_type": "markdown",
      "metadata": {
        "id": "JdtedVFNhxsO"
      },
      "source": [
        "<div class=\"alert alert-info\"><h4>Note</h4><p>If running on Windows and you get a BrokenPipeError, try setting\n",
        "    the num_worker of torch.utils.data.DataLoader() to 0.</p></div>\n",
        "\n"
      ]
    },
    {
      "cell_type": "code",
      "execution_count": 3,
      "metadata": {
        "id": "PG0wIkcYhxsP",
        "outputId": "7c5f09ba-c37e-4a3a-e55d-81982f89114c",
        "colab": {
          "base_uri": "https://localhost:8080/"
        }
      },
      "outputs": [
        {
          "output_type": "stream",
          "name": "stdout",
          "text": [
            "Files already downloaded and verified\n",
            "Files already downloaded and verified\n"
          ]
        }
      ],
      "source": [
        "transform = transforms.Compose(\n",
        "    [transforms.ToTensor(),\n",
        "     transforms.Normalize((0.5, 0.5, 0.5), (0.5, 0.5, 0.5))])\n",
        "\n",
        "batch_size = 4\n",
        "\n",
        "trainset = torchvision.datasets.CIFAR10(root='./data', train=True,\n",
        "                                        download=True, transform=transform)\n",
        "trainloader = torch.utils.data.DataLoader(trainset, batch_size=batch_size,\n",
        "                                          shuffle=True, num_workers=2)\n",
        "\n",
        "testset = torchvision.datasets.CIFAR10(root='./data', train=False,\n",
        "                                       download=True, transform=transform)\n",
        "testloader = torch.utils.data.DataLoader(testset, batch_size=batch_size,\n",
        "                                         shuffle=False, num_workers=2)\n",
        "\n",
        "classes = ('plane', 'car', 'bird', 'cat',\n",
        "           'deer', 'dog', 'frog', 'horse', 'ship', 'truck')"
      ]
    },
    {
      "cell_type": "markdown",
      "metadata": {
        "id": "Y8hEdJY0hxsR"
      },
      "source": [
        "Let us show some of the training images, for fun.\n",
        "\n"
      ]
    },
    {
      "cell_type": "code",
      "execution_count": 4,
      "metadata": {
        "id": "si_W2idZhxsS",
        "outputId": "28fe5a87-21e3-4c83-abe9-4bffc2394f8d",
        "colab": {
          "base_uri": "https://localhost:8080/",
          "height": 210
        }
      },
      "outputs": [
        {
          "output_type": "display_data",
          "data": {
            "text/plain": [
              "<Figure size 640x480 with 1 Axes>"
            ],
            "image/png": "[encoded data removed]"
          },
          "metadata": {}
        },
        {
          "output_type": "stream",
          "name": "stdout",
          "text": [
            "plane truck truck cat  \n"
          ]
        }
      ],
      "source": [
        "import matplotlib.pyplot as plt\n",
        "import numpy as np\n",
        "\n",
        "# functions to show an image\n",
        "\n",
        "\n",
        "def imshow(img):\n",
        "    img = img / 2 + 0.5     # unnormalize\n",
        "    npimg = img.numpy()\n",
        "    plt.imshow(np.transpose(npimg, (1, 2, 0)))\n",
        "    plt.show()\n",
        "\n",
        "\n",
        "# get some random training images\n",
        "dataiter = iter(trainloader)\n",
        "images, labels = next(dataiter)\n",
        "\n",
        "# show images\n",
        "imshow(torchvision.utils.make_grid(images))\n",
        "# print labels\n",
        "print(' '.join(f'{classes[labels[j]]:5s}' for j in range(batch_size)))"
      ]
    },
    {
      "cell_type": "markdown",
      "metadata": {
        "id": "Izn-xQMBhxsU"
      },
      "source": [
        "### 2. Define a Convolutional Neural Network\n",
        "Copy the neural network from the Neural Networks section before and modify it to\n",
        "take 3-channel images (instead of 1-channel images as it was defined).\n",
        "\n",
        "Changes made - slightly larger network so that we can prune it"
      ]
    },
    {
      "cell_type": "code",
      "execution_count": 5,
      "metadata": {
        "id": "JLa_p1vuhxsW"
      },
      "outputs": [],
      "source": [
        "import torch.nn as nn\n",
        "import torch.nn.functional as F\n",
        "\n",
        "\n",
        "class Net(nn.Module):\n",
        "    def __init__(self):\n",
        "        super().__init__()\n",
        "        self.conv1 = nn.Conv2d(3, 6, 5)\n",
        "        self.pool = nn.MaxPool2d(2, 2)\n",
        "        self.conv2 = nn.Conv2d(6, 16, 5)\n",
        "        self.fc1 = nn.Linear(16 * 5 * 5, 250)  # 250 instead of 120\n",
        "        self.fc2 = nn.Linear(250, 200)  # 200 instead of 84\n",
        "        self.fc3 = nn.Linear(200, 10)\n",
        "\n",
        "    def forward(self, x):\n",
        "        x = self.pool(F.relu(self.conv1(x)))\n",
        "        x = self.pool(F.relu(self.conv2(x)))\n",
        "        x = torch.flatten(x, 1) # flatten all dimensions except batch\n",
        "        x = F.relu(self.fc1(x))\n",
        "        x = F.relu(self.fc2(x))\n",
        "        x = self.fc3(x)\n",
        "        return x\n",
        "\n",
        "\n",
        "net = Net()"
      ]
    },
    {
      "cell_type": "markdown",
      "source": [
        "### 2.5 We create a class to handle pruning the network\n",
        "\n",
        "During training we monitor the mean and variance, and every few minibatches we prune the network neurons that have low variance."
      ],
      "metadata": {
        "id": "16W1rZXDipCf"
      }
    },
    {
      "cell_type": "code",
      "source": [
        "# https://www.johndcook.com/blog/standard_deviation/\n",
        "\n",
        "class RunningStat:\n",
        "\n",
        "    def __init__(self):\n",
        "        self.m_n = 0\n",
        "\n",
        "    def clear(self):\n",
        "        self.m_n = 0\n",
        "\n",
        "    def push(self, x):\n",
        "        self.m_n += 1\n",
        "        x = x.detach().clone()\n",
        "        x.requires_grad = False\n",
        "        if self.m_n == 1:\n",
        "            self.m_oldM = self.m_newM = x + 0\n",
        "            self.m_oldS = x * 0\n",
        "            self.m_newS = x * 0\n",
        "        else:\n",
        "            self.m_newM = self.m_oldM + (x - self.m_oldM) / self.m_n\n",
        "            self.m_newS = self.m_oldS + (x - self.m_oldM) * (x - self.m_newM)\n",
        "            self.m_oldM = self.m_newM\n",
        "            self.m_oldS = self.m_newS\n",
        "\n",
        "    def num_data_values(self):\n",
        "        return self.m_n\n",
        "\n",
        "    def mean(self):\n",
        "        return self.m_newM if self.m_n > 0 else 0.0\n",
        "\n",
        "    def variance(self):\n",
        "        return self.m_newS / (self.m_n - 1) if self.m_n > 1 else 0.0\n",
        "\n",
        "    def standard_deviation(self):\n",
        "        return self.variance() ** 0.5\n",
        "\n",
        "    def reshape(self, newshape):\n",
        "      self.m_oldS = self.m_oldS[newshape]\n",
        "      self.m_oldM = self.m_oldM[newshape]\n",
        "      self.m_newS = self.m_newS[newshape]\n",
        "      self.m_newM = self.m_newM[newshape]\n",
        "\n",
        "from functools import wraps\n",
        "import numpy as np\n",
        "\n",
        "class linear_pruner:\n",
        "\n",
        "    def __init__(self, layerprev, layernext, activation=lambda x: x, model_and_optimizer = None):\n",
        "        self.layerprev = layerprev\n",
        "        self.layernext = layernext\n",
        "        self.old_layerprev_forward = layerprev.forward\n",
        "        self.activation = activation\n",
        "        self.model_and_optimizer = model_and_optimizer # for momentum\n",
        "        self.stats = RunningStat()\n",
        "\n",
        "    def hook(self):\n",
        "        @wraps(self.old_layerprev_forward)\n",
        "        def new_layerprev_forward_observe(*_, **__):\n",
        "            x = self.old_layerprev_forward(*_, **__)\n",
        "            if len(x.shape) == 1:\n",
        "                self.stats.push(x)\n",
        "            elif len(x.shape) == 2:\n",
        "                for i in x:\n",
        "                    self.stats.push(i)\n",
        "            else:\n",
        "                raise NotImplementedError(f\"Cannot override forward pass for input shape {x.shape}\")\n",
        "            return x\n",
        "        self.layerprev.forward = new_layerprev_forward_observe\n",
        "\n",
        "    def unhook(self):\n",
        "        self.layerprev.forward = self.old_layerprev_forward\n",
        "\n",
        "    def test_prune(self, threshold_mean_fraction: float = 0.6, threshold_percentile: int = 0):\n",
        "        # Threshold of what needs pruning\n",
        "        assert (threshold_mean_fraction >= 0) and (100 >threshold_percentile >= 0), \"Need valid_vaues\"\n",
        "        if threshold_mean_fraction > 0:\n",
        "            threshold = torch.mean(self.stats.standard_deviation())*threshold_mean_fraction\n",
        "        else:\n",
        "            threshold = np.percentile(np.array(self.stats.standard_deviation().detach().clone().cpu()), threshold_percentile)\n",
        "        bad_locations = torch.where(self.stats.standard_deviation() < threshold)[0]\n",
        "        meanreplacement = self.activation(self.stats.mean()[bad_locations])\n",
        "        @wraps(self.old_layerprev_forward)\n",
        "        def new_layerprev_forward_test(*_, **__):\n",
        "            x = self.old_layerprev_forward(*_, **__)\n",
        "            if len(x.shape) == 1:\n",
        "               x[bad_locations] = meanreplacement\n",
        "            elif len(x.shape) == 2:\n",
        "               x[:, bad_locations] = meanreplacement\n",
        "            else:\n",
        "                raise NotImplementedError(f\"Cannot override forward pass for input shape {x.shape}\")\n",
        "            return x\n",
        "        self.layerprev.forward = new_layerprev_forward_test\n",
        "\n",
        "    def permanent_prune(self, threshold_mean_fraction: float = 0.6, threshold_percentile: int = 0):\n",
        "        # Threshold of what needs pruning\n",
        "        assert (threshold_mean_fraction >= 0) and (100 >threshold_percentile >= 0), \"Need valid_vaues\"\n",
        "        if threshold_mean_fraction > 0:\n",
        "            threshold = torch.mean(self.stats.standard_deviation())*threshold_mean_fraction\n",
        "        else:\n",
        "            threshold = np.percentile(np.array(self.stats.standard_deviation().detach().clone().cpu()), threshold_percentile)\n",
        "        # Get pruning locations\n",
        "        bad_locations = torch.where(self.stats.standard_deviation() < threshold)[0]\n",
        "        good_locations = torch.where(self.stats.standard_deviation() >= threshold)[0]\n",
        "\n",
        "        if self.model_and_optimizer:\n",
        "            state_dict = self.model_and_optimizer[1].state_dict()['state']\n",
        "        # Prune layerprev and state\n",
        "        if self.model_and_optimizer:\n",
        "            index = next(i for i, p in enumerate(self.model_and_optimizer[0].parameters()) if p is self.layerprev.weight)\n",
        "            state_dict[index][\"momentum_buffer\"].data = state_dict[index][\"momentum_buffer\"].data[good_locations, :]\n",
        "        self.layerprev.weight.data = self.layerprev.weight.data[good_locations, :]\n",
        "        if self.model_and_optimizer:\n",
        "            index = next(i for i, p in enumerate(self.model_and_optimizer[0].parameters()) if p is self.layerprev.bias)\n",
        "            state_dict[index][\"momentum_buffer\"].data = state_dict[index][\"momentum_buffer\"].data[good_locations]\n",
        "\n",
        "        self.layerprev.bias.data = self.layerprev.bias.data[good_locations]\n",
        "        self.layerprev.out_features = len(good_locations)\n",
        "\n",
        "        # Prune layerprev grad\n",
        "        if self.layerprev.weight.grad is not None:\n",
        "            self.layerprev.weight.grad.data = self.layerprev.weight.grad.data[good_locations, :]\n",
        "        if self.layerprev.bias.grad is not None:\n",
        "            self.layerprev.bias.grad.data = self.layerprev.bias.grad.data[good_locations]\n",
        "\n",
        "        # Edit layernext bias data\n",
        "        temp_bias = self.layernext.bias.data + 0\n",
        "        self.layernext.bias.data = temp_bias * 0\n",
        "        dummy = torch.zeros(self.layernext.weight.data.shape[1], device=self.layernext.weight.data.device)\n",
        "        dummy[bad_locations] = self.stats.mean()[bad_locations]\n",
        "        dummy = self.activation(dummy)\n",
        "        bias_edit = self.layernext.forward(dummy)\n",
        "        self.layernext.bias.data = temp_bias + bias_edit\n",
        "\n",
        "        # Prune layernext weight\n",
        "        if self.model_and_optimizer:\n",
        "            index = next(i for i, p in enumerate(self.model_and_optimizer[0].parameters()) if p is self.layernext.weight)\n",
        "            state_dict[index][\"momentum_buffer\"].data = state_dict[index][\"momentum_buffer\"].data[:, good_locations]\n",
        "        self.layernext.weight.data = self.layernext.weight.data[:, good_locations]\n",
        "        self.layernext.in_features = len(good_locations)\n",
        "        # Prune layernext grad\n",
        "        if self.layernext.weight.grad is not None:\n",
        "            self.layernext.weight.grad.data = self.layernext.weight.grad.data[:, good_locations]\n",
        "        # reshape stats\n",
        "        self.stats.reshape(good_locations)\n",
        "        # Remake parameters\n",
        "        self.layerprev.weight = nn.Parameter(self.layerprev.weight)\n",
        "        self.layerprev.bias = nn.Parameter(self.layerprev.bias)\n",
        "        self.layernext.weight = nn.Parameter(self.layernext.weight)\n",
        "\n",
        "        #Force update optimizer params\n",
        "        if self.model_and_optimizer:\n",
        "            new_state = dict(zip(self.model_and_optimizer[0].parameters(), self.model_and_optimizer[1].state.values()))\n",
        "            self.model_and_optimizer[1].state.clear()\n",
        "            self.model_and_optimizer[1].state.update(new_state)\n",
        "            self.model_and_optimizer[1].param_groups[0]['params'] = list(self.model_and_optimizer[0].parameters())"
      ],
      "metadata": {
        "id": "xn-GOsW3imZm"
      },
      "execution_count": 6,
      "outputs": []
    },
    {
      "cell_type": "markdown",
      "metadata": {
        "id": "7Z1U2utyhxsX"
      },
      "source": [
        "### 3. Define a Loss function and optimizer\n",
        "Let's use a Classification Cross-Entropy loss and SGD with momentum.\n",
        "\n"
      ]
    },
    {
      "cell_type": "code",
      "execution_count": 7,
      "metadata": {
        "id": "dQ1CHLgkhxsX"
      },
      "outputs": [],
      "source": [
        "import torch.optim as optim\n",
        "\n",
        "criterion = nn.CrossEntropyLoss()\n",
        "optimizer = optim.SGD(net.parameters(), lr=0.001, momentum=0.9)"
      ]
    },
    {
      "cell_type": "markdown",
      "source": [
        "### 3.5. Hook into the network and define the layers we want to use.\n",
        "\n",
        "Using the custom linear_pruner class"
      ],
      "metadata": {
        "id": "blrklyuokDfS"
      }
    },
    {
      "cell_type": "code",
      "source": [
        "pruner1 = linear_pruner(net.fc1, net.fc2, F.relu, (net, optimizer))\n",
        "pruner2 = linear_pruner(net.fc2, net.fc3, F.relu, (net, optimizer))\n",
        "pruner1.hook()\n",
        "pruner2.hook()"
      ],
      "metadata": {
        "id": "bsDMmUU1kAxo"
      },
      "execution_count": 8,
      "outputs": []
    },
    {
      "cell_type": "markdown",
      "metadata": {
        "id": "zeF-Jzr6hxsY"
      },
      "source": [
        "### 4. Train the network\n",
        "\n",
        "This is when things start to get very interesting.\n",
        "We simply have to loop over our data iterator, and feed the inputs to the\n",
        "network and optimize.\n",
        "And on every mini batch we prune the network\n",
        "\n"
      ]
    },
    {
      "cell_type": "code",
      "execution_count": 9,
      "metadata": {
        "id": "HT5jUTLShxsY",
        "outputId": "3e0e1c19-e433-4e75-b7d3-7348700c1d56",
        "colab": {
          "base_uri": "https://localhost:8080/"
        }
      },
      "outputs": [
        {
          "output_type": "stream",
          "name": "stdout",
          "text": [
            "[1,  2000] loss: 2.169\n",
            "[1,  4000] loss: 1.773\n",
            "[1,  6000] loss: 1.632\n",
            "[1,  8000] loss: 1.528\n",
            "[1, 10000] loss: 1.491\n",
            "[1, 12000] loss: 1.433\n",
            "[2,  2000] loss: 1.343\n",
            "[2,  4000] loss: 1.337\n",
            "[2,  6000] loss: 1.291\n",
            "[2,  8000] loss: 1.284\n",
            "[2, 10000] loss: 1.236\n",
            "[2, 12000] loss: 1.226\n",
            "Finished Training\n"
          ]
        }
      ],
      "source": [
        "for epoch in range(2):  # loop over the dataset multiple times\n",
        "\n",
        "    running_loss = 0.0\n",
        "    for i, data in enumerate(trainloader, 0):\n",
        "        # get the inputs; data is a list of [inputs, labels]\n",
        "        inputs, labels = data\n",
        "\n",
        "        # zero the parameter gradients\n",
        "        optimizer.zero_grad()\n",
        "\n",
        "        # forward + backward + optimize\n",
        "        outputs = net(inputs)\n",
        "        loss = criterion(outputs, labels)\n",
        "        loss.backward()\n",
        "        optimizer.step()\n",
        "\n",
        "        # print statistics\n",
        "        running_loss += loss.item()\n",
        "        if i % 2000 == 1999:    # print every 2000 mini-batches\n",
        "            print(f'[{epoch + 1}, {i + 1:5d}] loss: {running_loss / 2000:.3f}')\n",
        "            running_loss = 0.0\n",
        "            # Pruning\n",
        "            pruner1.permanent_prune()\n",
        "            pruner2.permanent_prune()\n",
        "\n",
        "# We can then unhook from the model\n",
        "pruner1.unhook()\n",
        "pruner2.unhook()\n",
        "print('Finished Training')"
      ]
    },
    {
      "cell_type": "markdown",
      "source": [
        "let's see what our new model looks like"
      ],
      "metadata": {
        "id": "uJT4Xg76lQqN"
      }
    },
    {
      "cell_type": "code",
      "source": [
        "print(net)"
      ],
      "metadata": {
        "id": "CFendmoHlVWb",
        "outputId": "19abeb59-9d76-4dd9-d5d2-9d25b6ab34d7",
        "colab": {
          "base_uri": "https://localhost:8080/"
        }
      },
      "execution_count": 10,
      "outputs": [
        {
          "output_type": "stream",
          "name": "stdout",
          "text": [
            "Net(\n",
            "  (conv1): Conv2d(3, 6, kernel_size=(5, 5), stride=(1, 1))\n",
            "  (pool): MaxPool2d(kernel_size=2, stride=2, padding=0, dilation=1, ceil_mode=False)\n",
            "  (conv2): Conv2d(6, 16, kernel_size=(5, 5), stride=(1, 1))\n",
            "  (fc1): Linear(in_features=400, out_features=181, bias=True)\n",
            "  (fc2): Linear(in_features=181, out_features=107, bias=True)\n",
            "  (fc3): Linear(in_features=107, out_features=10, bias=True)\n",
            ")\n"
          ]
        }
      ]
    },
    {
      "cell_type": "markdown",
      "metadata": {
        "id": "dY4D070ChxsZ"
      },
      "source": [
        "That definitely worked - our architecture has changed\n",
        "Let's quickly save our trained model:\n",
        "\n"
      ]
    },
    {
      "cell_type": "code",
      "execution_count": 11,
      "metadata": {
        "id": "mCWGzHNMhxsZ"
      },
      "outputs": [],
      "source": [
        "PATH = './cifar_net.pth'\n",
        "torch.save(net.state_dict(), PATH)"
      ]
    },
    {
      "cell_type": "markdown",
      "metadata": {
        "id": "pSEPOxTmhxsZ"
      },
      "source": [
        "See [here](https://pytorch.org/docs/stable/notes/serialization.html)\n",
        "for more details on saving PyTorch models.\n",
        "\n",
        "### 5. Test the network on the test data\n",
        "\n",
        "We have trained the network for 2 passes over the training dataset.\n",
        "But we need to check if the network has learnt anything at all.\n",
        "\n",
        "We will check this by predicting the class label that the neural network\n",
        "outputs, and checking it against the ground-truth. If the prediction is\n",
        "correct, we add the sample to the list of correct predictions.\n",
        "\n",
        "Okay, first step. Let us display an image from the test set to get familiar.\n",
        "\n"
      ]
    },
    {
      "cell_type": "code",
      "execution_count": 12,
      "metadata": {
        "id": "mUNw9_TEhxsa",
        "outputId": "ab6f32b2-4e12-4bcf-bbfe-fe69cc02de8c",
        "colab": {
          "base_uri": "https://localhost:8080/",
          "height": 210
        }
      },
      "outputs": [
        {
          "output_type": "display_data",
          "data": {
            "text/plain": [
              "<Figure size 640x480 with 1 Axes>"
            ],
            "image/png": "[encoded data removed]"
          },
          "metadata": {}
        },
        {
          "output_type": "stream",
          "name": "stdout",
          "text": [
            "GroundTruth:  cat   ship  ship  plane\n"
          ]
        }
      ],
      "source": [
        "dataiter = iter(testloader)\n",
        "images, labels = next(dataiter)\n",
        "\n",
        "# print images\n",
        "imshow(torchvision.utils.make_grid(images))\n",
        "print('GroundTruth: ', ' '.join(f'{classes[labels[j]]:5s}' for j in range(4)))"
      ]
    },
    {
      "cell_type": "markdown",
      "metadata": {
        "id": "IPQO7KOahxsa"
      },
      "source": [
        "Next, let's see what happense when we try to load back in our saved model (note: this breaks because of pruning)\n",
        "\n"
      ]
    },
    {
      "cell_type": "code",
      "execution_count": 13,
      "metadata": {
        "id": "NEmQdJluhxsa",
        "outputId": "9b0717db-f282-4e51-f242-4aa9cd60c3d2",
        "colab": {
          "base_uri": "https://localhost:8080/"
        }
      },
      "outputs": [
        {
          "output_type": "stream",
          "name": "stdout",
          "text": [
            "Traceback (most recent call last):\n",
            "  File \"<ipython-input-13-4ced9f71ea99>\", line 4, in <cell line: 2>\n",
            "    net_loaded.load_state_dict(torch.load(PATH))\n",
            "  File \"/usr/local/lib/python3.10/dist-packages/torch/nn/modules/module.py\", line 2152, in load_state_dict\n",
            "    raise RuntimeError('Error(s) in loading state_dict for {}:\\n\\t{}'.format(\n",
            "RuntimeError: Error(s) in loading state_dict for Net:\n",
            "\tsize mismatch for fc1.weight: copying a param with shape torch.Size([181, 400]) from checkpoint, the shape in current model is torch.Size([250, 400]).\n",
            "\tsize mismatch for fc1.bias: copying a param with shape torch.Size([181]) from checkpoint, the shape in current model is torch.Size([250]).\n",
            "\tsize mismatch for fc2.weight: copying a param with shape torch.Size([107, 181]) from checkpoint, the shape in current model is torch.Size([200, 250]).\n",
            "\tsize mismatch for fc2.bias: copying a param with shape torch.Size([107]) from checkpoint, the shape in current model is torch.Size([200]).\n",
            "\tsize mismatch for fc3.weight: copying a param with shape torch.Size([10, 107]) from checkpoint, the shape in current model is torch.Size([10, 200]).\n",
            "\n"
          ]
        }
      ],
      "source": [
        "import traceback\n",
        "try:\n",
        "    net_loaded = Net()\n",
        "    net_loaded.load_state_dict(torch.load(PATH))\n",
        "except RuntimeError:\n",
        "    print(traceback.format_exc())"
      ]
    },
    {
      "cell_type": "markdown",
      "metadata": {
        "id": "6NU3lhYhhxsb"
      },
      "source": [
        "Okay, now let us see what the neural network thinks these examples above are:\n",
        "\n"
      ]
    },
    {
      "cell_type": "code",
      "execution_count": 14,
      "metadata": {
        "id": "JNkknB2shxsb"
      },
      "outputs": [],
      "source": [
        "outputs = net(images)"
      ]
    },
    {
      "cell_type": "markdown",
      "metadata": {
        "id": "uu-z4oKchxsb"
      },
      "source": [
        "The outputs are energies for the 10 classes.\n",
        "The higher the energy for a class, the more the network\n",
        "thinks that the image is of the particular class.\n",
        "So, let's get the index of the highest energy:\n",
        "\n"
      ]
    },
    {
      "cell_type": "code",
      "execution_count": 15,
      "metadata": {
        "id": "7Sl7vxBghxsc",
        "outputId": "96e3bafb-628f-4755-eb58-f9a3d121dfd4",
        "colab": {
          "base_uri": "https://localhost:8080/"
        }
      },
      "outputs": [
        {
          "output_type": "stream",
          "name": "stdout",
          "text": [
            "Predicted:  cat   car   ship  plane\n"
          ]
        }
      ],
      "source": [
        "_, predicted = torch.max(outputs, 1)\n",
        "\n",
        "print('Predicted: ', ' '.join(f'{classes[predicted[j]]:5s}'\n",
        "                              for j in range(4)))"
      ]
    },
    {
      "cell_type": "markdown",
      "metadata": {
        "id": "iMjtZTd9hxsc"
      },
      "source": [
        "The results seem pretty good.\n",
        "\n",
        "Let us look at how the network performs on the whole dataset.\n",
        "\n"
      ]
    },
    {
      "cell_type": "code",
      "execution_count": 16,
      "metadata": {
        "id": "v357TLI_hxsc",
        "outputId": "1ce7d50b-f44e-466b-ee68-fb958304d10f",
        "colab": {
          "base_uri": "https://localhost:8080/"
        }
      },
      "outputs": [
        {
          "output_type": "stream",
          "name": "stdout",
          "text": [
            "Accuracy of the network on the 10000 test images: 58 %\n"
          ]
        }
      ],
      "source": [
        "correct = 0\n",
        "total = 0\n",
        "# since we're not training, we don't need to calculate the gradients for our outputs\n",
        "with torch.no_grad():\n",
        "    for data in testloader:\n",
        "        images, labels = data\n",
        "        # calculate outputs by running images through the network\n",
        "        outputs = net(images)\n",
        "        # the class with the highest energy is what we choose as prediction\n",
        "        _, predicted = torch.max(outputs.data, 1)\n",
        "        total += labels.size(0)\n",
        "        correct += (predicted == labels).sum().item()\n",
        "\n",
        "print(f'Accuracy of the network on the 10000 test images: {100 * correct // total} %')"
      ]
    },
    {
      "cell_type": "markdown",
      "metadata": {
        "id": "lAB7x-Ikhxsd"
      },
      "source": [
        "That looks way better than chance, which is 10% accuracy (randomly picking\n",
        "a class out of 10 classes).\n",
        "Seems like the network learnt something.\n",
        "\n",
        "Hmmm, what are the classes that performed well, and the classes that did\n",
        "not perform well:\n",
        "\n"
      ]
    },
    {
      "cell_type": "code",
      "execution_count": 17,
      "metadata": {
        "id": "0xn0vBvAhxsd",
        "outputId": "9bdb5d1f-a91d-40f1-90fc-71d74cb15e04",
        "colab": {
          "base_uri": "https://localhost:8080/"
        }
      },
      "outputs": [
        {
          "output_type": "stream",
          "name": "stdout",
          "text": [
            "Accuracy for class: plane is 62.1 %\n",
            "Accuracy for class: car   is 75.9 %\n",
            "Accuracy for class: bird  is 39.7 %\n",
            "Accuracy for class: cat   is 39.5 %\n",
            "Accuracy for class: deer  is 49.0 %\n",
            "Accuracy for class: dog   is 38.3 %\n",
            "Accuracy for class: frog  is 68.1 %\n",
            "Accuracy for class: horse is 68.7 %\n",
            "Accuracy for class: ship  is 70.0 %\n",
            "Accuracy for class: truck is 75.3 %\n"
          ]
        }
      ],
      "source": [
        "# prepare to count predictions for each class\n",
        "correct_pred = {classname: 0 for classname in classes}\n",
        "total_pred = {classname: 0 for classname in classes}\n",
        "\n",
        "# again no gradients needed\n",
        "with torch.no_grad():\n",
        "    for data in testloader:\n",
        "        images, labels = data\n",
        "        outputs = net(images)\n",
        "        _, predictions = torch.max(outputs, 1)\n",
        "        # collect the correct predictions for each class\n",
        "        for label, prediction in zip(labels, predictions):\n",
        "            if label == prediction:\n",
        "                correct_pred[classes[label]] += 1\n",
        "            total_pred[classes[label]] += 1\n",
        "\n",
        "\n",
        "# print accuracy for each class\n",
        "for classname, correct_count in correct_pred.items():\n",
        "    accuracy = 100 * float(correct_count) / total_pred[classname]\n",
        "    print(f'Accuracy for class: {classname:5s} is {accuracy:.1f} %')"
      ]
    },
    {
      "cell_type": "markdown",
      "metadata": {
        "id": "fwl-3qafhxsd"
      },
      "source": [
        "Okay, so what next?\n",
        "\n",
        "How do we run these neural networks on the GPU?\n",
        "\n",
        "## Training on GPU\n",
        "Just like how you transfer a Tensor onto the GPU, you transfer the neural\n",
        "net onto the GPU.\n",
        "\n",
        "Let's first define our device as the first visible cuda device if we have\n",
        "CUDA available:\n",
        "\n"
      ]
    },
    {
      "cell_type": "code",
      "execution_count": 18,
      "metadata": {
        "id": "ZkLdDxekhxse",
        "outputId": "de709875-e828-4364-f36e-68e97b0741c2",
        "colab": {
          "base_uri": "https://localhost:8080/"
        }
      },
      "outputs": [
        {
          "output_type": "stream",
          "name": "stdout",
          "text": [
            "cpu\n"
          ]
        }
      ],
      "source": [
        "device = torch.device('cuda:0' if torch.cuda.is_available() else 'cpu')\n",
        "\n",
        "# Assuming that we are on a CUDA machine, this should print a CUDA device:\n",
        "\n",
        "print(device)"
      ]
    },
    {
      "cell_type": "markdown",
      "metadata": {
        "id": "Q-OLQmFahxse"
      },
      "source": [
        "The rest of this section assumes that ``device`` is a CUDA device.\n",
        "\n",
        "Then these methods will recursively go over all modules and convert their\n",
        "parameters and buffers to CUDA tensors:\n",
        "\n",
        ".. code:: python\n",
        "\n",
        "    net.to(device)\n",
        "\n",
        "\n",
        "Remember that you will have to send the inputs and targets at every step\n",
        "to the GPU too:\n",
        "\n",
        ".. code:: python\n",
        "\n",
        "        inputs, labels = data[0].to(device), data[1].to(device)\n",
        "\n",
        "Why don't I notice MASSIVE speedup compared to CPU? Because your network\n",
        "is really small.\n",
        "\n",
        "**Exercise:** Try increasing the width of your network (argument 2 of\n",
        "the first ``nn.Conv2d``, and argument 1 of the second ``nn.Conv2d`` –\n",
        "they need to be the same number), see what kind of speedup you get.\n",
        "\n",
        "**Goals achieved**:\n",
        "\n",
        "- Understanding PyTorch's Tensor library and neural networks at a high level.\n",
        "- Train a small neural network to classify images\n",
        "\n",
        "## Training on multiple GPUs\n",
        "If you want to see even more MASSIVE speedup using all of your GPUs,\n",
        "please check out :doc:`data_parallel_tutorial`.\n",
        "\n",
        "## Where do I go next?\n",
        "\n",
        "-  :doc:`Train neural nets to play video games </intermediate/reinforcement_q_learning>`\n",
        "-  `Train a state-of-the-art ResNet network on imagenet`_\n",
        "-  `Train a face generator using Generative Adversarial Networks`_\n",
        "-  `Train a word-level language model using Recurrent LSTM networks`_\n",
        "-  `More examples`_\n",
        "-  `More tutorials`_\n",
        "-  `Discuss PyTorch on the Forums`_\n",
        "-  `Chat with other users on Slack`_\n",
        "\n",
        "\n"
      ]
    },
    {
      "cell_type": "code",
      "execution_count": 19,
      "metadata": {
        "id": "Pf5Ds3j8hxsf"
      },
      "outputs": [],
      "source": [
        "del dataiter"
      ]
    }
  ],
  "metadata": {
    "kernelspec": {
      "display_name": "Python 3",
      "language": "python",
      "name": "python3"
    },
    "language_info": {
      "codemirror_mode": {
        "name": "ipython",
        "version": 3
      },
      "file_extension": ".py",
      "mimetype": "text/x-python",
      "name": "python",
      "nbconvert_exporter": "python",
      "pygments_lexer": "ipython3",
      "version": "3.10.13"
    },
    "colab": {
      "provenance": []
    }
  },
  "nbformat": 4,
  "nbformat_minor": 0
}